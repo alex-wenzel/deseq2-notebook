{
 "cells": [
  {
   "cell_type": "markdown",
   "metadata": {},
   "source": [
    "# DESeq2: Differential Expression in the GenePattern Environment\n",
    "\n",
    "Computational notebooks are powerful tools for data analysis. However, they are best used to run relatively short analyses in an interactive format. This notebook demonstrates how GenePattern modules can be integrated into the notebook environment to integrate longer analyses on larger datasets with more interactive characterization of the results. \n",
    "\n",
    "In this notebook, we will identify differentially expressed genes between cancerous and healthy breast tissue using the DESeq2 algorithm [1]. DESeq2 performs a normalization on raw RNA-seq counts, and then models expression using the negative binomial distribution to identify genes that are significantly differentiall expressed in one class of samples compared to another. Here, the normal breast tissue samples comprise one class, and the other is made up of the tumor samples."
   ]
  },
  {
   "cell_type": "markdown",
   "metadata": {},
   "source": [
    "# Obtaining data\n",
    "\n",
    "First, we will obtain the data for this analysis. The data is stored [here](https://datasets.genepattern.org/?prefix=data/module_support_files/DESeq2/). Specifically, we will need to download `BRCA_tumor_and_normal_20783x40.gct`, which contains the expression data, and `BRCA_tumor_and_normal_x40.cls`, which labels which samples are tumor and which are normal. `GCT` and `CLS` are formats used throughout the GenePattern ecosystem to store expression data and corresponding sample-level annotations. You can read about them in the [GenePattern file format guide](https://www.genepattern.org/file-formats-guide).\n",
    "\n",
    "Using the `!` operator, we can run bash commands directly in the code cell. The follow cells use `wget` to retrieve the files from the link above."
   ]
  },
  {
   "cell_type": "markdown",
   "metadata": {},
   "source": [
    "## Download the expression data"
   ]
  },
  {
   "cell_type": "code",
   "execution_count": 4,
   "metadata": {},
   "outputs": [
    {
     "name": "stdout",
     "output_type": "stream",
     "text": [
      "--2020-09-23 23:05:03--  https://datasets.genepattern.org/data/module_support_files/DESeq2/BRCA_tumor_and_normal_20783x40.gct\n",
      "Resolving datasets.genepattern.org (datasets.genepattern.org)... 52.85.144.128, 52.85.144.36, 52.85.144.59, ...\n",
      "Connecting to datasets.genepattern.org (datasets.genepattern.org)|52.85.144.128|:443... connected.\n",
      "HTTP request sent, awaiting response... 200 OK\n",
      "Length: 4229844 (4.0M) [binary/octet-stream]\n",
      "Saving to: ‘BRCA_tumor_and_normal_20783x40.gct.2’\n",
      "\n",
      "BRCA_tumor_and_norm 100%[===================>]   4.03M  --.-KB/s    in 0.03s   \n",
      "\n",
      "2020-09-23 23:05:03 (131 MB/s) - ‘BRCA_tumor_and_normal_20783x40.gct.2’ saved [4229844/4229844]\n",
      "\n"
     ]
    }
   ],
   "source": [
    "!wget https://datasets.genepattern.org/data/module_support_files/DESeq2/BRCA_tumor_and_normal_20783x40.gct"
   ]
  },
  {
   "cell_type": "markdown",
   "metadata": {},
   "source": [
    "## Download the class file"
   ]
  },
  {
   "cell_type": "code",
   "execution_count": 5,
   "metadata": {},
   "outputs": [
    {
     "name": "stdout",
     "output_type": "stream",
     "text": [
      "--2020-09-23 23:05:04--  https://datasets.genepattern.org/data/module_support_files/DESeq2/BRCA_tumor_and_normal_x40.cls\n",
      "Resolving datasets.genepattern.org (datasets.genepattern.org)... 52.85.144.66, 52.85.144.128, 52.85.144.36, ...\n",
      "Connecting to datasets.genepattern.org (datasets.genepattern.org)|52.85.144.66|:443... connected.\n",
      "HTTP request sent, awaiting response... 200 OK\n",
      "Length: 118 [binary/octet-stream]\n",
      "Saving to: ‘BRCA_tumor_and_normal_x40.cls.2’\n",
      "\n",
      "BRCA_tumor_and_norm 100%[===================>]     118  --.-KB/s    in 0s      \n",
      "\n",
      "2020-09-23 23:05:04 (4.17 MB/s) - ‘BRCA_tumor_and_normal_x40.cls.2’ saved [118/118]\n",
      "\n"
     ]
    }
   ],
   "source": [
    "!wget https://datasets.genepattern.org/data/module_support_files/DESeq2/BRCA_tumor_and_normal_x40.cls"
   ]
  },
  {
   "cell_type": "markdown",
   "metadata": {},
   "source": [
    "# Uploading data to the GenePattern server\n",
    "\n",
    "After running the two cells above, you'll notice that `BRCA_tumor_and_normal_20783x40.gct` and `BRCA_tumor_and_normal_x40.cls` are now in the same directory as this notebook in your GenePattern Notebook directory. Before we can use these files in a GenePattern module, we need to upload them to the GenePattern server. We can do this using GenePattern's REST API. The following cell will return a `GPServer` object that is authorized to send and receive files from your account on `cloud.genepattern.org`. You will need to edit it to contain your username."
   ]
  },
  {
   "cell_type": "markdown",
   "metadata": {},
   "source": [
    "## Login to GenePattern for REST API access"
   ]
  },
  {
   "cell_type": "code",
   "execution_count": 6,
   "metadata": {},
   "outputs": [
    {
     "name": "stdout",
     "output_type": "stream",
     "text": [
      "Username: atwenzel2\n",
      "Password: ········\n",
      "Login successful!\n"
     ]
    }
   ],
   "source": [
    "from getpass import getpass\n",
    "import gp\n",
    "\n",
    "username = input(\"Username: \")\n",
    "\n",
    "passwd = getpass(\"Password: \")\n",
    "gpserver = gp.GPServer('https://cloud.genepattern.org/gp', username, passwd)\n",
    "gpserver.login()\n",
    "\n",
    "print(\"Login successful!\")"
   ]
  },
  {
   "cell_type": "markdown",
   "metadata": {},
   "source": [
    "Now we will upload the GCT and CLS file, and importantly, print out the URL, which we will use as the input to DESeq2."
   ]
  },
  {
   "cell_type": "markdown",
   "metadata": {},
   "source": [
    "## Upload GCT file"
   ]
  },
  {
   "cell_type": "code",
   "execution_count": 7,
   "metadata": {},
   "outputs": [
    {
     "data": {
      "text/plain": [
       "'https://cloud.genepattern.org/gp/users/atwenzel2/tmp/run8178161089531844216.tmp/BRCA_tumor_and_normal_20783x40.gct'"
      ]
     },
     "execution_count": 7,
     "metadata": {},
     "output_type": "execute_result"
    }
   ],
   "source": [
    "gpserver.upload_file(\n",
    "    \"BRCA_tumor_and_normal_20783x40.gct\", \n",
    "    \"BRCA_tumor_and_normal_20783x40.gct\"\n",
    ").get_url()"
   ]
  },
  {
   "cell_type": "markdown",
   "metadata": {},
   "source": [
    "## Upload CLS file"
   ]
  },
  {
   "cell_type": "code",
   "execution_count": 8,
   "metadata": {},
   "outputs": [
    {
     "data": {
      "text/plain": [
       "'https://cloud.genepattern.org/gp/users/atwenzel2/tmp/run5772468078584039820.tmp/BRCA_tumor_and_normal_x40.cls'"
      ]
     },
     "execution_count": 8,
     "metadata": {},
     "output_type": "execute_result"
    }
   ],
   "source": [
    "gpserver.upload_file(\n",
    "    \"BRCA_tumor_and_normal_x40.cls\", \n",
    "    \"BRCA_tumor_and_normal_x40.cls\"\n",
    ").get_url()"
   ]
  },
  {
   "cell_type": "markdown",
   "metadata": {},
   "source": [
    "# Run DESeq2\n",
    "\n",
    "With the data uploaded to the GenePattern server, we can now run DESeq2. For the sake of time, this notebook contains a pre-computed job result, but feel free to experiment with running the module later on. "
   ]
  },
  {
   "cell_type": "markdown",
   "metadata": {},
   "source": [
    "## Login to the GenePattern server"
   ]
  },
  {
   "cell_type": "code",
   "execution_count": 10,
   "metadata": {
    "genepattern": {
     "name": "Login",
     "server": "https://cloud.genepattern.org/gp",
     "type": "auth"
    }
   },
   "outputs": [
    {
     "data": {
      "application/vnd.jupyter.widget-view+json": {
       "model_id": "c8c24aa428a049babec5f638d53a5407",
       "version_major": 2,
       "version_minor": 0
      },
      "text/plain": [
       "GPAuthWidget()"
      ]
     },
     "metadata": {},
     "output_type": "display_data"
    }
   ],
   "source": [
    "# Requires GenePattern Notebook: pip install genepattern-notebook\n",
    "import gp\n",
    "import genepattern\n",
    "\n",
    "# Username and password removed for security reasons.\n",
    "genepattern.display(genepattern.session.register(\"https://cloud.genepattern.org/gp\", \"\", \"\"))"
   ]
  },
  {
   "cell_type": "markdown",
   "metadata": {},
   "source": [
    "## Load DESeq2 and run\n",
    "\n",
    "Here, you can set the `Input file` to be the link to the `gct` file printed above, and the `cls file` to be the link to the `cls` file above. Leave all other inputs blank or as their defaults."
   ]
  },
  {
   "cell_type": "code",
   "execution_count": 11,
   "metadata": {
    "genepattern": {
     "description": "A Differential Expression workflow for RNA-Seq data based on the DESeq2 package from Bioconductor ",
     "name": "DESeq2",
     "param_values": {
      "cls.file": [
       "https://cloud.genepattern.org/gp/users/atwenzel2/tmp/run5772468078584039820.tmp/BRCA_tumor_and_normal_x40.cls"
      ],
      "confounding.variable.cls.file": null,
      "fdr.threshold": null,
      "input.file": [
       "https://cloud.genepattern.org/gp/users/atwenzel2/tmp/run8178161089531844216.tmp/BRCA_tumor_and_normal_20783x40.gct"
      ],
      "job.cpuCount": null,
      "job.memory": null,
      "job.queue": null,
      "job.walltime": null,
      "output.file.base": null,
      "qc.plot.format": null,
      "random.seed": null,
      "top.N.count": null
     },
     "type": "task"
    }
   },
   "outputs": [
    {
     "data": {
      "application/vnd.jupyter.widget-view+json": {
       "model_id": "40a652afbe924ef3a9da2c20a2cf300a",
       "version_major": 2,
       "version_minor": 0
      },
      "text/plain": [
       "GPTaskWidget(lsid='urn:lsid:broad.mit.edu:cancer.software.genepattern.module.analysis:00362')"
      ]
     },
     "metadata": {},
     "output_type": "display_data"
    }
   ],
   "source": [
    "deseq2_task = gp.GPTask(genepattern.session.get(0), 'urn:lsid:broad.mit.edu:cancer.software.genepattern.module.analysis:00362')\n",
    "deseq2_job_spec = deseq2_task.make_job_spec()\n",
    "deseq2_job_spec.set_parameter(\"input.file\", \"https://cloud.genepattern.org/gp/users/atwenzel2/tmp/run8178161089531844216.tmp/BRCA_tumor_and_normal_20783x40.gct\")\n",
    "deseq2_job_spec.set_parameter(\"cls.file\", \"https://cloud.genepattern.org/gp/users/atwenzel2/tmp/run5772468078584039820.tmp/BRCA_tumor_and_normal_x40.cls\")\n",
    "deseq2_job_spec.set_parameter(\"confounding.variable.cls.file\", \"\")\n",
    "deseq2_job_spec.set_parameter(\"output.file.base\", \"<input.file_basename>\")\n",
    "deseq2_job_spec.set_parameter(\"qc.plot.format\", \"skip\")\n",
    "deseq2_job_spec.set_parameter(\"fdr.threshold\", \"0.1\")\n",
    "deseq2_job_spec.set_parameter(\"top.N.count\", \"20\")\n",
    "deseq2_job_spec.set_parameter(\"random.seed\", \"779948241\")\n",
    "deseq2_job_spec.set_parameter(\"job.memory\", \"2 Gb\")\n",
    "deseq2_job_spec.set_parameter(\"job.queue\", \"gp-cloud-default\")\n",
    "deseq2_job_spec.set_parameter(\"job.cpuCount\", \"1\")\n",
    "deseq2_job_spec.set_parameter(\"job.walltime\", \"02:00:00\")\n",
    "genepattern.display(deseq2_task)\n",
    "\n",
    "\n",
    "job279004 = gp.GPJob(genepattern.session.get(0), 279004)\n",
    "genepattern.display(job279004)"
   ]
  },
  {
   "cell_type": "code",
   "execution_count": 12,
   "metadata": {},
   "outputs": [
    {
     "data": {
      "text/plain": [
       "<gp.core.GPFile at 0x7fad2a51cdd0>"
      ]
     },
     "execution_count": 12,
     "metadata": {},
     "output_type": "execute_result"
    }
   ],
   "source": [
    "# More documentation can be obtained at the GenePattern website, or by calling help(job279004).\n",
    "brca_tumor_and_normal_20783x40_matched_normal_vs_primary_tumor_deseq2_results_report_txt_279004 = job279004.get_file(\"BRCA_tumor_and_normal_20783x40.matched_normal.vs.primary_tumor.DESeq2_results_report.txt\")\n",
    "brca_tumor_and_normal_20783x40_matched_normal_vs_primary_tumor_deseq2_results_report_txt_279004 "
   ]
  },
  {
   "cell_type": "markdown",
   "metadata": {},
   "source": [
    "# Visualize results\n",
    "\n",
    "Now that DESeq2 is complete, we can visualize the results."
   ]
  },
  {
   "cell_type": "code",
   "execution_count": 13,
   "metadata": {},
   "outputs": [
    {
     "name": "stdout",
     "output_type": "stream",
     "text": [
      "Help on GPJob in module gp.core object:\n",
      "\n",
      "class GPJob(GPResource)\n",
      " |  GPJob(server_data, uri)\n",
      " |  \n",
      " |  A running or completed job on a Gene Pattern server.\n",
      " |  \n",
      " |  Contains methods to get the info of the job, and to wait on a running job by\n",
      " |  polling the server until the job is completed.\n",
      " |  \n",
      " |  Method resolution order:\n",
      " |      GPJob\n",
      " |      GPResource\n",
      " |      builtins.object\n",
      " |  \n",
      " |  Methods defined here:\n",
      " |  \n",
      " |  __init__(self, server_data, uri)\n",
      " |      Initialize self.  See help(type(self)) for accurate signature.\n",
      " |  \n",
      " |  get_child_jobs(self)\n",
      " |      Queries the GenePattern server for child jobs of this job, creates GPJob\n",
      " |      objects representing each of them and assigns the list of them to the\n",
      " |      GPJob.children property. Then return this list.\n",
      " |  \n",
      " |  get_comments(self)\n",
      " |      Returns the comments for the job, querying the\n",
      " |      server if necessary.\n",
      " |  \n",
      " |  get_file(self, name)\n",
      " |      Returns the output file with the specified name, if no output files\n",
      " |      match, returns None.\n",
      " |  \n",
      " |  get_info(self)\n",
      " |      Query the GenePattern server for metadata regarding this job and assign\n",
      " |      that metadata to the properties on this GPJob object. Including:\n",
      " |          * Task Name\n",
      " |          * LSID\n",
      " |          * User ID\n",
      " |          * Job Number\n",
      " |          * Status\n",
      " |          * Date Submitted\n",
      " |          * URL of Log Files\n",
      " |          * URL of Output Files\n",
      " |          * Number of Output Files\n",
      " |  \n",
      " |  get_job_status_url(self)\n",
      " |      Returns the URL of the job's status page on the GenePattern server\n",
      " |  \n",
      " |  get_output_files(self)\n",
      " |      Returns a list of the files output by the job, querying the server if\n",
      " |      necessary. If the job has output no files, an empty list will be\n",
      " |      returned.\n",
      " |  \n",
      " |  get_permissions(self)\n",
      " |      Get the permissions object for the GP job\n",
      " |  \n",
      " |  get_status_message(self)\n",
      " |      Returns the status message for the job, querying the\n",
      " |      server if necessary.\n",
      " |  \n",
      " |  get_tags(self)\n",
      " |      Returns the tags for the job, querying the\n",
      " |      server if necessary.\n",
      " |  \n",
      " |  has_error(self)\n",
      " |      Queries the server to check if the job has an error.\n",
      " |      Returns True or False.\n",
      " |  \n",
      " |  is_finished(self)\n",
      " |      Queries the server to check if the job has been completed.\n",
      " |      Returns True or False.\n",
      " |  \n",
      " |  is_pending(self)\n",
      " |      Queries the server to check if the job is pending.\n",
      " |      Returns True or False.\n",
      " |  \n",
      " |  load_info(self)\n",
      " |      Parses the JSON object stored at GPJob.info and assigns its metadata to\n",
      " |      properties of this GPJob object.\n",
      " |      \n",
      " |      Primarily intended to be called from GPJob.get_info().\n",
      " |  \n",
      " |  set_permissions(self, permissions)\n",
      " |      Set the group permissions for the job\n",
      " |  \n",
      " |  wait_until_done(self)\n",
      " |      This method will not return until the job is either complete or has\n",
      " |      reached an error state. This queries the server periodically to check\n",
      " |      for an update in status.\n",
      " |  \n",
      " |  ----------------------------------------------------------------------\n",
      " |  Data and other attributes defined here:\n",
      " |  \n",
      " |  children = None\n",
      " |  \n",
      " |  date_submitted = None\n",
      " |  \n",
      " |  info = None\n",
      " |  \n",
      " |  job_number = None\n",
      " |  \n",
      " |  json = None\n",
      " |  \n",
      " |  log_files = None\n",
      " |  \n",
      " |  num_output_files = None\n",
      " |  \n",
      " |  output_files = None\n",
      " |  \n",
      " |  server_data = None\n",
      " |  \n",
      " |  status = None\n",
      " |  \n",
      " |  task_lsid = None\n",
      " |  \n",
      " |  task_name = None\n",
      " |  \n",
      " |  user_id = None\n",
      " |  \n",
      " |  ----------------------------------------------------------------------\n",
      " |  Data descriptors inherited from GPResource:\n",
      " |  \n",
      " |  __dict__\n",
      " |      dictionary for instance variables (if defined)\n",
      " |  \n",
      " |  __weakref__\n",
      " |      list of weak references to the object (if defined)\n",
      " |  \n",
      " |  ----------------------------------------------------------------------\n",
      " |  Data and other attributes inherited from GPResource:\n",
      " |  \n",
      " |  uri = None\n",
      "\n"
     ]
    }
   ],
   "source": []
  },
  {
   "cell_type": "markdown",
   "metadata": {},
   "source": [
    "# References\n",
    "\n",
    "1. Love MI, Huber W, Anders S (2014). “Moderated estimation of fold change and dispersion for RNA-seq data with DESeq2.” Genome Biology, 15, 550. doi: 10.1186/s13059-014-0550-8."
   ]
  },
  {
   "cell_type": "code",
   "execution_count": null,
   "metadata": {},
   "outputs": [],
   "source": []
  }
 ],
 "metadata": {
  "kernelspec": {
   "display_name": "Python 3.7",
   "language": "python",
   "name": "python3.7"
  },
  "language_info": {
   "codemirror_mode": {
    "name": "ipython",
    "version": 3
   },
   "file_extension": ".py",
   "mimetype": "text/x-python",
   "name": "python",
   "nbconvert_exporter": "python",
   "pygments_lexer": "ipython3",
   "version": "3.7.8"
  },
  "toc": {
   "base_numbering": 1,
   "nav_menu": {},
   "number_sections": false,
   "sideBar": true,
   "skip_h1_title": false,
   "title_cell": "Table of Contents",
   "title_sidebar": "Contents",
   "toc_cell": false,
   "toc_position": {},
   "toc_section_display": true,
   "toc_window_display": false
  }
 },
 "nbformat": 4,
 "nbformat_minor": 4
}
